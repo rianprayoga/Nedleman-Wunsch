{
 "cells": [
  {
   "cell_type": "markdown",
   "metadata": {},
   "source": [
    "![](exmple.jpg)"
   ]
  },
  {
   "cell_type": "code",
   "execution_count": 1,
   "metadata": {
    "collapsed": true
   },
   "outputs": [],
   "source": [
    "from sequence_alignment import NeedlemanWuncsh"
   ]
  },
  {
   "cell_type": "code",
   "execution_count": 2,
   "metadata": {
    "scrolled": false
   },
   "outputs": [
    {
     "name": "stdout",
     "output_type": "stream",
     "text": [
      "MNAL--QM\n",
      "-NALMSQA\n",
      "score  0\n"
     ]
    }
   ],
   "source": [
    "# seq1 = 'AWAP'\n",
    "# seq2 = 'APP'\n",
    "# gap = 2\n",
    "\n",
    "# seq1 = 'HEAGAWGHEE'\n",
    "# seq2 = 'PAWHEAE'\n",
    "# gap = 2\n",
    "\n",
    "seq1 = 'MNALQM'\n",
    "seq2 = 'NALMSQA'\n",
    "gap = 6\n",
    "\n",
    "nw = NeedlemanWuncsh(seq1,seq2, gap)\n",
    "a, s =nw.get_alignment()\n",
    "print(a)\n",
    "print('score ', s)"
   ]
  },
  {
   "cell_type": "markdown",
   "metadata": {},
   "source": [
    "### Matrix after we compute value for each cell"
   ]
  },
  {
   "cell_type": "code",
   "execution_count": 3,
   "metadata": {},
   "outputs": [
    {
     "data": {
      "text/plain": [
       "array([[  0.,  -6., -12., -18., -24., -30., -36.],\n",
       "       [ -6.,  -2.,   0.,  -6., -12., -18., -24.],\n",
       "       [-12.,  -7.,  -4.,   4.,  -2.,  -8., -14.],\n",
       "       [-18., -10., -10.,  -2.,   8.,   2.,  -4.],\n",
       "       [-24., -13., -12.,  -8.,   2.,   8.,   7.],\n",
       "       [-30., -19., -12., -11.,  -4.,   2.,   7.],\n",
       "       [-36., -25., -18., -13., -10.,   1.,   2.],\n",
       "       [-42., -31., -24., -14., -14.,  -5.,   0.]])"
      ]
     },
     "execution_count": 3,
     "metadata": {},
     "output_type": "execute_result"
    }
   ],
   "source": [
    "nw.matrix_nw()"
   ]
  }
 ],
 "metadata": {
  "kernelspec": {
   "display_name": "Python 3",
   "language": "python",
   "name": "python3"
  },
  "language_info": {
   "codemirror_mode": {
    "name": "ipython",
    "version": 3
   },
   "file_extension": ".py",
   "mimetype": "text/x-python",
   "name": "python",
   "nbconvert_exporter": "python",
   "pygments_lexer": "ipython3",
   "version": "3.6.3"
  }
 },
 "nbformat": 4,
 "nbformat_minor": 2
}
